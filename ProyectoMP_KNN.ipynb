{
  "nbformat": 4,
  "nbformat_minor": 0,
  "metadata": {
    "colab": {
      "provenance": [],
      "include_colab_link": true
    },
    "kernelspec": {
      "name": "python3",
      "display_name": "Python 3"
    },
    "language_info": {
      "name": "python"
    }
  },
  "cells": [
    {
      "cell_type": "markdown",
      "metadata": {
        "id": "view-in-github",
        "colab_type": "text"
      },
      "source": [
        "<a href=\"https://colab.research.google.com/github/CESAR729/tareamodelos/blob/main/ProyectoMP_KNN.ipynb\" target=\"_parent\"><img src=\"https://colab.research.google.com/assets/colab-badge.svg\" alt=\"Open In Colab\"/></a>"
      ]
    },
    {
      "cell_type": "markdown",
      "source": [
        "Importar bibliotecas necesarias"
      ],
      "metadata": {
        "id": "MvYzTlrpW852"
      }
    },
    {
      "cell_type": "code",
      "execution_count": null,
      "metadata": {
        "id": "aO3pE1ihU3NC"
      },
      "outputs": [],
      "source": [
        "import pandas as pd\n",
        "import numpy as np\n",
        "from sklearn.model_selection import train_test_split\n",
        "from sklearn.preprocessing import StandardScaler\n",
        "from sklearn.neighbors import KNeighborsClassifier\n",
        "from sklearn.metrics import accuracy_score, classification_report, confusion_matrix"
      ]
    },
    {
      "cell_type": "markdown",
      "source": [
        "Cargar los datos"
      ],
      "metadata": {
        "id": "AgSZPcxYXF83"
      }
    },
    {
      "cell_type": "code",
      "source": [
        "file_path = 'Casos_Anemia_Region_Cusco_2010_2020_Cusco.csv'\n",
        "data = pd.read_csv(file_path, encoding='latin-1') # Adding the encoding parameter\n",
        "                                                 # Try 'latin-1' first, if it doesn't work, try 'cp1252' or others.\n",
        "\n",
        "# Mostrar un resumen de los datos\n",
        "print(\"Datos cargados:\")\n",
        "print(data.head())\n",
        "print(\"\\nInformación de los datos:\")\n",
        "print(data.info())"
      ],
      "metadata": {
        "colab": {
          "base_uri": "https://localhost:8080/"
        },
        "id": "GLIu4sZXXIkK",
        "outputId": "ce7a9182-bae0-4661-d915-2585ad07ad68"
      },
      "execution_count": null,
      "outputs": [
        {
          "output_type": "stream",
          "name": "stdout",
          "text": [
            "Datos cargados:\n",
            "  DEPARTAMENTO;PROVINCIA;DISTRITO;RED;MICRORED;COD_EESS;EESS;EDAD;ANIO;CASOS;NORMAL;TOTAL;FECHA_CORTE;UBIGEO\n",
            "0  CUSCO;NULL;NULL;CANAS - CANCHIS - ESPINAR;TECH...                                                        \n",
            "1  CUSCO;NULL;NULL;CUSCO SUR;HUANCARANI;NULL;C.S....                                                        \n",
            "2  CUSCO;ACOMAYO;ACOMAYO;CUSCO SUR;ACOMAYO;NULL;C...                                                        \n",
            "3  CUSCO;ACOMAYO;ACOMAYO;CUSCO SUR;ACOMAYO;NULL;C...                                                        \n",
            "4  CUSCO;ACOMAYO;ACOMAYO;CUSCO SUR;ACOMAYO;NULL;C...                                                        \n",
            "\n",
            "Información de los datos:\n",
            "<class 'pandas.core.frame.DataFrame'>\n",
            "RangeIndex: 83412 entries, 0 to 83411\n",
            "Data columns (total 1 columns):\n",
            " #   Column                                                                                                      Non-Null Count  Dtype \n",
            "---  ------                                                                                                      --------------  ----- \n",
            " 0   DEPARTAMENTO;PROVINCIA;DISTRITO;RED;MICRORED;COD_EESS;EESS;EDAD;ANIO;CASOS;NORMAL;TOTAL;FECHA_CORTE;UBIGEO  83412 non-null  object\n",
            "dtypes: object(1)\n",
            "memory usage: 651.8+ KB\n",
            "None\n"
          ]
        }
      ]
    },
    {
      "cell_type": "markdown",
      "source": [
        "Procesar los datos"
      ],
      "metadata": {
        "id": "T1R7-BYYXRYe"
      }
    },
    {
      "cell_type": "code",
      "source": [
        "# 2. Procesar los datos\n",
        "# ... (previous code) ...\n",
        "\n",
        "# Read the CSV with semicolon as delimiter\n",
        "data = pd.read_csv(file_path, encoding='latin-1', sep=';')\n",
        "\n",
        "# ... (rest of your code) ...\n",
        "\n",
        "# Separar características (X) y etiquetas (y)\n",
        "X = data.drop(columns=['CASOS'], axis=1)\n",
        "y = data['CASOS']"
      ],
      "metadata": {
        "id": "lC4LBy8ZXTMF"
      },
      "execution_count": null,
      "outputs": []
    },
    {
      "cell_type": "markdown",
      "source": [
        "Dividir el conjunto de datos en entrenamiento y prueba"
      ],
      "metadata": {
        "id": "UWdV3rmJXXbs"
      }
    },
    {
      "cell_type": "code",
      "source": [
        "X_train, X_test, y_train, y_test = train_test_split(X, y, test_size=0.3, random_state=42)"
      ],
      "metadata": {
        "id": "biy5YIjYXZlS"
      },
      "execution_count": null,
      "outputs": []
    },
    {
      "cell_type": "markdown",
      "source": [
        "Normalizar los datos"
      ],
      "metadata": {
        "id": "5nkl2KoKXcaY"
      }
    },
    {
      "cell_type": "code",
      "source": [
        "from sklearn.preprocessing import StandardScaler, OneHotEncoder\n",
        "from sklearn.compose import ColumnTransformer\n",
        "\n",
        "# Identify categorical columns\n",
        "categorical_cols = X.select_dtypes(include=['object']).columns.tolist()\n",
        "\n",
        "# Create a ColumnTransformer to apply OneHotEncoding to categorical columns\n",
        "preprocessor = ColumnTransformer(\n",
        "    transformers=[\n",
        "        ('num', StandardScaler(), X.select_dtypes(exclude=['object']).columns.tolist()),\n",
        "        ('cat', OneHotEncoder(sparse_output=False, handle_unknown='ignore'), categorical_cols),\n",
        "    ])\n",
        "\n",
        "# Fit and transform the data using the preprocessor\n",
        "X_train = preprocessor.fit_transform(X_train)\n",
        "X_test = preprocessor.transform(X_test)"
      ],
      "metadata": {
        "id": "ra10K2m8bvAV"
      },
      "execution_count": null,
      "outputs": []
    },
    {
      "cell_type": "markdown",
      "source": [
        "Implementar el algoritmo KNN"
      ],
      "metadata": {
        "id": "hRKbggtxcsmz"
      }
    },
    {
      "cell_type": "code",
      "source": [
        "from sklearn.impute import SimpleImputer\n",
        "\n",
        "# Create an imputer to replace NaN with the mean\n",
        "imputer = SimpleImputer(strategy='mean')\n",
        "\n",
        "# Identify numerical columns\n",
        "numerical_cols = X.select_dtypes(exclude=['object']).columns.tolist()\n",
        "\n",
        "# Fit and transform the numerical data using the imputer\n",
        "X[numerical_cols] = imputer.fit_transform(X[numerical_cols])\n",
        "\n",
        "# Now continue with your preprocessing and model training steps\n",
        "# ... (rest of your code) ..."
      ],
      "metadata": {
        "id": "YlYrdddGcvAT"
      },
      "execution_count": null,
      "outputs": []
    },
    {
      "cell_type": "markdown",
      "source": [
        "Evaluar el modelo"
      ],
      "metadata": {
        "id": "_n1H3Xj_c8Gm"
      }
    },
    {
      "cell_type": "code",
      "source": [
        "# Importar bibliotecas necesarias\n",
        "import pandas as pd\n",
        "import numpy as np\n",
        "from sklearn.model_selection import train_test_split\n",
        "from sklearn.preprocessing import StandardScaler, OneHotEncoder\n",
        "from sklearn.compose import ColumnTransformer\n",
        "from sklearn.impute import SimpleImputer\n",
        "from sklearn.neighbors import KNeighborsClassifier\n",
        "from sklearn.metrics import accuracy_score, classification_report, confusion_matrix\n",
        "\n",
        "\n",
        "# Cargar los datos\n",
        "file_path = 'Casos_Anemia_Region_Cusco_2010_2020_Cusco.csv'\n",
        "data = pd.read_csv(file_path, encoding='latin-1', sep=';')  # Adding the encoding parameter with semicolon as delimiter\n",
        "\n",
        "# Mostrar un resumen de los datos\n",
        "print(\"Datos cargados:\")\n",
        "print(data.head())\n",
        "print(\"\\nInformación de los datos:\")\n",
        "print(data.info())\n",
        "\n",
        "# Procesar los datos\n",
        "# Separar características (X) y etiquetas (y)\n",
        "X = data.drop(columns=['CASOS'], axis=1)\n",
        "y = data['CASOS']\n",
        "\n",
        "# Create an imputer to replace NaN with the mean\n",
        "imputer = SimpleImputer(strategy='mean')\n",
        "\n",
        "# Identify numerical columns\n",
        "numerical_cols = X.select_dtypes(exclude=['object']).columns.tolist()\n",
        "\n",
        "# Fit and transform the numerical data using the imputer\n",
        "X[numerical_cols] = imputer.fit_transform(X[numerical_cols])\n",
        "\n",
        "# Dividir el conjunto de datos en entrenamiento y prueba\n",
        "X_train, X_test, y_train, y_test = train_test_split(X, y, test_size=0.3, random_state=42)\n",
        "\n",
        "# Normalizar los datos\n",
        "# Identify categorical columns\n",
        "categorical_cols = X.select_dtypes(include=['object']).columns.tolist()\n",
        "\n",
        "# Create a ColumnTransformer to apply OneHotEncoding to categorical columns\n",
        "preprocessor = ColumnTransformer(\n",
        "    transformers=[\n",
        "        ('num', StandardScaler(), X.select_dtypes(exclude=['object']).columns.tolist()),\n",
        "        ('cat', OneHotEncoder(sparse_output=False, handle_unknown='ignore'), categorical_cols),\n",
        "    ])\n",
        "\n",
        "# Fit and transform the data using the preprocessor\n",
        "X_train = preprocessor.fit_transform(X_train)\n",
        "X_test = preprocessor.transform(X_test)\n",
        "\n",
        "\n",
        "# Implementar el algoritmo KNN\n",
        "# Create and train the KNN classifier\n",
        "knn = KNeighborsClassifier(n_neighbors=5) # You can adjust n_neighbors\n",
        "knn.fit(X_train, y_train)\n",
        "\n",
        "# Make predictions on the test set\n",
        "y_pred = knn.predict(X_test)\n",
        "\n",
        "# Evaluar el modelo\n",
        "print(\"\\nMatriz de Confusión:\")\n",
        "print(confusion_matrix(y_test, y_pred))\n",
        "print(\"\\nReporte de Clasificación:\")\n",
        "print(classification_report(y_test, y_pred))\n",
        "print(\"\\nPrecisión del modelo:\")\n",
        "print(accuracy_score(y_test, y_pred))\n",
        "\n",
        "\n",
        "'''# Opcional: Probar diferentes valores de k\n",
        "print(\"\\nPrecisión para diferentes valores de k:\")\n",
        "for k in range(1, 11):\n",
        "    knn = KNeighborsClassifier(n_neighbors=k)\n",
        "    knn.fit(X_train, y_train)\n",
        "    y_pred = knn.predict(X_test)\n",
        "    print(f\"k={k}: {accuracy_score(y_test, y_pred):.2f}\")'''"
      ],
      "metadata": {
        "colab": {
          "base_uri": "https://localhost:8080/",
          "height": 1000
        },
        "id": "SEIpYUnldf4V",
        "outputId": "62f8bffb-57b6-4bd6-9ead-f296831714f4"
      },
      "execution_count": null,
      "outputs": [
        {
          "output_type": "stream",
          "name": "stdout",
          "text": [
            "Datos cargados:\n",
            "  DEPARTAMENTO PROVINCIA DISTRITO                        RED      MICRORED  \\\n",
            "0        CUSCO       NaN      NaN  CANAS - CANCHIS - ESPINAR  TECHO OBRERO   \n",
            "1        CUSCO       NaN      NaN                  CUSCO SUR    HUANCARANI   \n",
            "2        CUSCO   ACOMAYO  ACOMAYO                  CUSCO SUR       ACOMAYO   \n",
            "3        CUSCO   ACOMAYO  ACOMAYO                  CUSCO SUR       ACOMAYO   \n",
            "4        CUSCO   ACOMAYO  ACOMAYO                  CUSCO SUR       ACOMAYO   \n",
            "\n",
            "   COD_EESS             EESS  EDAD  ANIO  CASOS  NORMAL  TOTAL  FECHA_CORTE  \\\n",
            "0    2390.0       P.S. CCUYO     4  2017      0       1      1     20230630   \n",
            "1       NaN  C.S. HUANCARANI    41  2010      0       1      1     20230630   \n",
            "2       NaN     C.S. ACOMAYO     5  2010      1       0      1     20230630   \n",
            "3       NaN     C.S. ACOMAYO     5  2013      5       1      6     20230630   \n",
            "4       NaN     C.S. ACOMAYO     6  2010      3      21     24     20230630   \n",
            "\n",
            "    UBIGEO  \n",
            "0      NaN  \n",
            "1      NaN  \n",
            "2  80201.0  \n",
            "3  80201.0  \n",
            "4  80201.0  \n",
            "\n",
            "Información de los datos:\n",
            "<class 'pandas.core.frame.DataFrame'>\n",
            "RangeIndex: 83412 entries, 0 to 83411\n",
            "Data columns (total 14 columns):\n",
            " #   Column        Non-Null Count  Dtype  \n",
            "---  ------        --------------  -----  \n",
            " 0   DEPARTAMENTO  83412 non-null  object \n",
            " 1   PROVINCIA     83400 non-null  object \n",
            " 2   DISTRITO      83383 non-null  object \n",
            " 3   RED           83412 non-null  object \n",
            " 4   MICRORED      83412 non-null  object \n",
            " 5   COD_EESS      56624 non-null  float64\n",
            " 6   EESS          83412 non-null  object \n",
            " 7   EDAD          83412 non-null  int64  \n",
            " 8   ANIO          83412 non-null  int64  \n",
            " 9   CASOS         83412 non-null  int64  \n",
            " 10  NORMAL        83412 non-null  int64  \n",
            " 11  TOTAL         83412 non-null  int64  \n",
            " 12  FECHA_CORTE   83412 non-null  int64  \n",
            " 13  UBIGEO        83383 non-null  float64\n",
            "dtypes: float64(2), int64(6), object(6)\n",
            "memory usage: 8.9+ MB\n",
            "None\n",
            "\n",
            "Matriz de Confusión:\n",
            "[[8771 1935  165 ...    0    0    0]\n",
            " [3761 2723  378 ...    0    0    0]\n",
            " [1025 1118  299 ...    0    0    0]\n",
            " ...\n",
            " [   0    0    0 ...    0    0    0]\n",
            " [   0    0    0 ...    0    0    0]\n",
            " [   0    0    0 ...    0    0    0]]\n",
            "\n",
            "Reporte de Clasificación:\n",
            "              precision    recall  f1-score   support\n",
            "\n",
            "           0       0.61      0.80      0.70     10935\n",
            "           1       0.40      0.39      0.39      7008\n",
            "           2       0.20      0.11      0.14      2664\n",
            "           3       0.13      0.07      0.09      1325\n",
            "           4       0.14      0.08      0.10       750\n",
            "           5       0.13      0.08      0.10       517\n",
            "           6       0.12      0.07      0.08       350\n",
            "           7       0.15      0.07      0.10       274\n",
            "           8       0.11      0.07      0.08       193\n",
            "           9       0.03      0.01      0.02       147\n",
            "          10       0.07      0.05      0.06       118\n",
            "          11       0.05      0.03      0.04        90\n",
            "          12       0.05      0.02      0.03        93\n",
            "          13       0.07      0.03      0.04        71\n",
            "          14       0.08      0.08      0.08        51\n",
            "          15       0.09      0.07      0.08        43\n",
            "          16       0.00      0.00      0.00        35\n",
            "          17       0.00      0.00      0.00        39\n",
            "          18       0.04      0.04      0.04        27\n",
            "          19       0.00      0.00      0.00        25\n",
            "          20       0.05      0.03      0.04        30\n",
            "          21       0.00      0.00      0.00        12\n",
            "          22       0.00      0.00      0.00        17\n",
            "          23       0.11      0.05      0.07        19\n",
            "          24       0.00      0.00      0.00        14\n",
            "          25       0.00      0.00      0.00         8\n",
            "          26       0.00      0.00      0.00        17\n",
            "          27       0.00      0.00      0.00         9\n",
            "          28       0.00      0.00      0.00        13\n",
            "          29       0.00      0.00      0.00         8\n",
            "          30       0.00      0.00      0.00         7\n",
            "          31       0.14      0.10      0.12        10\n",
            "          32       0.00      0.00      0.00         6\n",
            "          33       0.00      0.00      0.00         7\n",
            "          34       0.00      0.00      0.00         9\n",
            "          35       0.00      0.00      0.00         3\n",
            "          36       0.00      0.00      0.00         6\n",
            "          37       0.00      0.00      0.00         3\n",
            "          38       0.00      0.00      0.00         7\n",
            "          39       0.00      0.00      0.00         8\n",
            "          40       0.00      0.00      0.00         2\n",
            "          41       0.00      0.00      0.00         3\n",
            "          42       0.00      0.00      0.00         2\n",
            "          43       0.00      0.00      0.00         2\n",
            "          44       0.00      0.00      0.00         1\n",
            "          45       0.00      0.00      0.00         3\n",
            "          46       0.00      0.00      0.00         2\n",
            "          47       0.00      0.00      0.00         1\n",
            "          48       0.00      0.00      0.00         0\n",
            "          49       0.00      0.00      0.00         1\n",
            "          52       0.00      0.00      0.00         2\n",
            "          53       0.00      0.00      0.00         1\n",
            "          54       0.00      0.00      0.00         2\n",
            "          55       0.00      0.00      0.00         0\n",
            "          56       0.00      0.00      0.00         3\n",
            "          57       0.00      0.00      0.00         1\n",
            "          59       0.00      0.00      0.00         1\n",
            "          60       0.00      0.00      0.00         1\n",
            "          61       0.00      0.00      0.00         1\n",
            "          62       0.00      0.00      0.00         2\n",
            "          63       0.00      0.00      0.00         0\n",
            "          64       0.00      0.00      0.00         1\n",
            "          66       0.00      0.00      0.00         2\n",
            "          67       0.00      0.00      0.00         1\n",
            "          68       0.00      0.00      0.00         1\n",
            "          70       0.00      0.00      0.00         0\n",
            "          72       0.00      0.00      0.00         2\n",
            "          73       0.00      0.00      0.00         1\n",
            "          75       0.00      0.00      0.00         1\n",
            "          77       0.00      0.00      0.00         0\n",
            "          79       0.00      0.00      0.00         0\n",
            "          85       0.00      0.00      0.00         1\n",
            "          86       0.00      0.00      0.00         1\n",
            "          87       0.00      0.00      0.00         0\n",
            "          88       0.00      0.00      0.00         0\n",
            "          92       0.00      0.00      0.00         0\n",
            "          96       0.00      0.00      0.00         0\n",
            "          99       0.00      0.00      0.00         2\n",
            "         103       0.00      0.00      0.00         1\n",
            "         105       0.00      0.00      0.00         1\n",
            "         106       0.00      0.00      0.00         1\n",
            "         111       0.00      0.00      0.00         1\n",
            "         116       0.00      0.00      0.00         0\n",
            "         120       0.00      0.00      0.00         1\n",
            "         128       0.00      0.00      0.00         1\n",
            "         129       0.00      0.00      0.00         1\n",
            "         144       0.00      0.00      0.00         1\n",
            "         149       0.00      0.00      0.00         1\n",
            "         156       0.00      0.00      0.00         0\n",
            "         181       0.00      0.00      0.00         1\n",
            "         184       0.00      0.00      0.00         1\n",
            "         259       0.00      0.00      0.00         1\n",
            "\n",
            "    accuracy                           0.48     25024\n",
            "   macro avg       0.03      0.02      0.03     25024\n",
            "weighted avg       0.42      0.48      0.44     25024\n",
            "\n",
            "\n",
            "Precisión del modelo:\n",
            "0.4822170716112532\n"
          ]
        },
        {
          "output_type": "stream",
          "name": "stderr",
          "text": [
            "/usr/local/lib/python3.10/dist-packages/sklearn/metrics/_classification.py:1531: UndefinedMetricWarning: Precision is ill-defined and being set to 0.0 in labels with no predicted samples. Use `zero_division` parameter to control this behavior.\n",
            "  _warn_prf(average, modifier, f\"{metric.capitalize()} is\", len(result))\n",
            "/usr/local/lib/python3.10/dist-packages/sklearn/metrics/_classification.py:1531: UndefinedMetricWarning: Recall is ill-defined and being set to 0.0 in labels with no true samples. Use `zero_division` parameter to control this behavior.\n",
            "  _warn_prf(average, modifier, f\"{metric.capitalize()} is\", len(result))\n",
            "/usr/local/lib/python3.10/dist-packages/sklearn/metrics/_classification.py:1531: UndefinedMetricWarning: Precision is ill-defined and being set to 0.0 in labels with no predicted samples. Use `zero_division` parameter to control this behavior.\n",
            "  _warn_prf(average, modifier, f\"{metric.capitalize()} is\", len(result))\n",
            "/usr/local/lib/python3.10/dist-packages/sklearn/metrics/_classification.py:1531: UndefinedMetricWarning: Recall is ill-defined and being set to 0.0 in labels with no true samples. Use `zero_division` parameter to control this behavior.\n",
            "  _warn_prf(average, modifier, f\"{metric.capitalize()} is\", len(result))\n",
            "/usr/local/lib/python3.10/dist-packages/sklearn/metrics/_classification.py:1531: UndefinedMetricWarning: Precision is ill-defined and being set to 0.0 in labels with no predicted samples. Use `zero_division` parameter to control this behavior.\n",
            "  _warn_prf(average, modifier, f\"{metric.capitalize()} is\", len(result))\n",
            "/usr/local/lib/python3.10/dist-packages/sklearn/metrics/_classification.py:1531: UndefinedMetricWarning: Recall is ill-defined and being set to 0.0 in labels with no true samples. Use `zero_division` parameter to control this behavior.\n",
            "  _warn_prf(average, modifier, f\"{metric.capitalize()} is\", len(result))\n"
          ]
        },
        {
          "output_type": "execute_result",
          "data": {
            "text/plain": [
              "'# Opcional: Probar diferentes valores de k\\nprint(\"\\nPrecisión para diferentes valores de k:\")\\nfor k in range(1, 11):\\n    knn = KNeighborsClassifier(n_neighbors=k)\\n    knn.fit(X_train, y_train)\\n    y_pred = knn.predict(X_test)\\n    print(f\"k={k}: {accuracy_score(y_test, y_pred):.2f}\")'"
            ],
            "application/vnd.google.colaboratory.intrinsic+json": {
              "type": "string"
            }
          },
          "metadata": {},
          "execution_count": 22
        }
      ]
    }
  ]
}